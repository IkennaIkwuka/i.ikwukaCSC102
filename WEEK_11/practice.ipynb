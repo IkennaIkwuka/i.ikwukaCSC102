{
 "cells": [
  {
   "cell_type": "code",
   "execution_count": 1,
   "metadata": {},
   "outputs": [
    {
     "name": "stdout",
     "output_type": "stream",
     "text": [
      "\n",
      "Name:  ikennna \n",
      "Salary: N450000\n",
      "ikennna is working on games\n"
     ]
    }
   ],
   "source": [
    "# A program that displays employees information\n",
    "\n",
    "\n",
    "class Employee:\n",
    "    # constructor\n",
    "    def __init__(self, name, salary, project):\n",
    "        # instance variables\n",
    "        self.name = name\n",
    "        self.salary = salary\n",
    "        self.project = project\n",
    "\n",
    "    # method to display employee's details\n",
    "    def show(self):\n",
    "        # accessing public instance variables\n",
    "        print(\"\\nName: \", self.name, \"\\nSalary:\", \"N\" + str(self.salary))\n",
    "\n",
    "    # method\n",
    "    def work(self):\n",
    "        print(self.name, \"is working on\", self.project)\n",
    "\n",
    "\n",
    "name = input(\"Enter your name: \")\n",
    "salary = int(input(\"How much do you earn: \"))\n",
    "project = input(\"What project are you working on: \")\n",
    "\n",
    "# creating object of a class\n",
    "emp = Employee(name, salary, project)\n",
    "\n",
    "# calling public method of the class\n",
    "emp.show()\n",
    "emp.work()"
   ]
  },
  {
   "cell_type": "code",
   "execution_count": 2,
   "metadata": {},
   "outputs": [
    {
     "name": "stdout",
     "output_type": "stream",
     "text": [
      "Name:  ikennna ikwuka Salary: N450000\n",
      "Name: ikennna ikwuka, Salary: N450000\n"
     ]
    }
   ],
   "source": [
    "class Employee:\n",
    "    # constructor\n",
    "    def __init__(self, name, salary):\n",
    "        # public instance variables\n",
    "        self.name = name\n",
    "        self.salary = salary\n",
    "\n",
    "    # public instance methods\n",
    "    def show(self):\n",
    "        # accessing public instance variables\n",
    "        print(f\"Name: {self.name}, Salary: N{self.salary}\")\n",
    "\n",
    "\n",
    "# input name and salary\n",
    "name = input(\"Enter your name: \")\n",
    "Salary = int(input(\"Enter your salary: \"))\n",
    "\n",
    "# creating object of a class\n",
    "emp = Employee(name, salary)\n",
    "\n",
    "# accessing public instance variables\n",
    "print(\"Name: \", emp.name, \"Salary:\", \"N{}\".format(emp.salary))\n",
    "\n",
    "# calling public method of the class\n",
    "emp.show()"
   ]
  },
  {
   "cell_type": "code",
   "execution_count": 3,
   "metadata": {},
   "outputs": [
    {
     "name": "stdout",
     "output_type": "stream",
     "text": [
      "Name:  Lemuel Otu\n",
      "Salary: 10000\n"
     ]
    }
   ],
   "source": [
    "class Employee:\n",
    "    # constructor\n",
    "    def __init__(self, name, salary):\n",
    "        # public instance variable\n",
    "        self.name = name\n",
    "\n",
    "        # private variable\n",
    "        self.salary = salary\n",
    "\n",
    "\n",
    "# creating object of a class\n",
    "emp = Employee(\"Lemuel Otu\", 10000)\n",
    "\n",
    "# accessing public instance variables\n",
    "print(\"Name: \", emp.name)\n",
    "\n",
    "# accessing private instance variable\n",
    "print(\"Salary:\", emp.salary)"
   ]
  },
  {
   "cell_type": "code",
   "execution_count": 4,
   "metadata": {},
   "outputs": [
    {
     "name": "stdout",
     "output_type": "stream",
     "text": [
      "Name:  Clinton Okpara \n",
      "Salary: 250000\n"
     ]
    }
   ],
   "source": [
    "class Employee:\n",
    "    # constructor\n",
    "    def __init__(self, name, salary):\n",
    "        # public data member\n",
    "        self.name = name\n",
    "\n",
    "        # private member\n",
    "        self.__salary = salary\n",
    "\n",
    "    # public instance methods\n",
    "    def show(self):\n",
    "        # private members are accessible from a class\n",
    "        print(\"Name: \", self.name, \"\\nSalary:\", self.__salary)\n",
    "\n",
    "\n",
    "# creating object of a class\n",
    "emp = Employee(\"Clinton Okpara\", 250000)\n",
    "\n",
    "# calling public method of the class\n",
    "emp.show()"
   ]
  },
  {
   "cell_type": "code",
   "execution_count": 5,
   "metadata": {},
   "outputs": [
    {
     "name": "stdout",
     "output_type": "stream",
     "text": [
      "Name:  Clinton Okpara \n",
      "Salary: 250000\n"
     ]
    }
   ],
   "source": [
    "class Employee:\n",
    "    # constructor\n",
    "    def __init__(self, name, salary):\n",
    "        # public data member\n",
    "        self.name = name\n",
    "\n",
    "        # private member\n",
    "        self.__salary = salary\n",
    "\n",
    "    # public instance methods\n",
    "    def show(self):\n",
    "        # private members are accessible from a class\n",
    "        print(\"Name: \", self.name, \"\\nSalary:\", self.__salary)\n",
    "\n",
    "\n",
    "# creating object of a class\n",
    "emp = Employee(\"Clinton Okpara\", 250000)\n",
    "\n",
    "# calling public method of the class\n",
    "emp.show()"
   ]
  },
  {
   "cell_type": "code",
   "execution_count": 6,
   "metadata": {},
   "outputs": [
    {
     "name": "stdout",
     "output_type": "stream",
     "text": [
      "Employee name : ikenna ikwuka\n",
      "Working on project : Blockchain Development\n",
      "Project: Blockchain Development\n"
     ]
    }
   ],
   "source": [
    "# base class\n",
    "class Company:\n",
    "    # base constructor\n",
    "    def __init__(self):\n",
    "        # Protected instance variable\n",
    "        self._project = \"Blockchain Development\"\n",
    "\n",
    "\n",
    "# child class\n",
    "class Employee(Company):\n",
    "    # child constructor\n",
    "    def __init__(self, name):\n",
    "        self.name = name\n",
    "\n",
    "        # invoke base constructor\n",
    "        Company.__init__(self)\n",
    "\n",
    "    def show(self):\n",
    "        print(f\"Employee name : {self.name}\")\n",
    "\n",
    "        # Accessing protected instance variable in child class\n",
    "        print(\"Working on project :\", self._project)\n",
    "\n",
    "\n",
    "c = Employee(input(\"Enter your name: \"))\n",
    "c.show()\n",
    "\n",
    "# Direct access to protected instance variable\n",
    "print(\"Project:\", c._project)"
   ]
  },
  {
   "cell_type": "code",
   "execution_count": 7,
   "metadata": {},
   "outputs": [
    {
     "name": "stdout",
     "output_type": "stream",
     "text": [
      "Name: Chike Okala \n",
      "Age: 34\n",
      "\n",
      "\n",
      "Name: Chike Okala \n",
      "Age: 26\n"
     ]
    }
   ],
   "source": [
    "class Student:\n",
    "    def __init__(self, name, age):\n",
    "        # public instance variable\n",
    "        self.name = name\n",
    "        # private instance variable\n",
    "        self.__age = age\n",
    "\n",
    "    # getter method\n",
    "    def get_age(self):\n",
    "        return self.__age\n",
    "\n",
    "    # setter method\n",
    "    def set_age(self, age):\n",
    "        self.__age = age\n",
    "\n",
    "\n",
    "stud = Student(\"Chike Okala\", 34)\n",
    "\n",
    "# retrieving age using getter\n",
    "print(\"Name:\", stud.name, \"\\nAge:\", stud.get_age())\n",
    "\n",
    "# changing age using setter\n",
    "stud.set_age(26)\n",
    "\n",
    "# retrieving age using getter\n",
    "print(\"\\n\\nName:\", stud.name, \"\\nAge:\", stud.get_age())"
   ]
  },
  {
   "cell_type": "code",
   "execution_count": 8,
   "metadata": {},
   "outputs": [
    {
     "name": "stdout",
     "output_type": "stream",
     "text": [
      "Student Details: Odunayo Agunbiade 10\n",
      "Invalid roll no. Please set correct roll number\n",
      "Student Details: Odunayo Agunbiade 25\n"
     ]
    }
   ],
   "source": [
    "class Student:\n",
    "    # contructor\n",
    "    def __init__(self, name, roll_no, ages):\n",
    "        # public instance variable\n",
    "        self.name = name\n",
    "        # private instance variables to restrict access\n",
    "        # avoid direct data modification\n",
    "        self.__roll_no = roll_no\n",
    "        self.__age = ages\n",
    "\n",
    "    def show(self):\n",
    "        print(\"Student Details:\", self.name, self.__roll_no)\n",
    "\n",
    "    # getter methods\n",
    "    def get_roll_no(self):\n",
    "        return self.__roll_no\n",
    "\n",
    "    # setter method to modify instance varaible\n",
    "    # condition to allow data modification with rules\n",
    "    def set_roll_no(self, number):\n",
    "        if number > 50:\n",
    "            print(\"Invalid roll no. Please set correct roll number\")\n",
    "        else:\n",
    "            self.__roll_no = number\n",
    "\n",
    "\n",
    "# object instanciation\n",
    "info = Student(\"Odunayo Agunbiade\", 10, 15)\n",
    "\n",
    "# before Modify\n",
    "info.show()\n",
    "\n",
    "# changing roll number using setter\n",
    "info.set_roll_no(120)\n",
    "\n",
    "\n",
    "info.set_roll_no(25)\n",
    "info.show()"
   ]
  }
 ],
 "metadata": {
  "kernelspec": {
   "display_name": ".venv",
   "language": "python",
   "name": "python3"
  },
  "language_info": {
   "codemirror_mode": {
    "name": "ipython",
    "version": 3
   },
   "file_extension": ".py",
   "mimetype": "text/x-python",
   "name": "python",
   "nbconvert_exporter": "python",
   "pygments_lexer": "ipython3",
   "version": "3.11.3"
  },
  "orig_nbformat": 4
 },
 "nbformat": 4,
 "nbformat_minor": 2
}
