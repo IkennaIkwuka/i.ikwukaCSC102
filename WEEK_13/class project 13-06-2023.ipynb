{
 "cells": [
  {
   "cell_type": "code",
   "execution_count": 3,
   "metadata": {},
   "outputs": [],
   "source": [
    "import pandas as pd\n",
    "\n",
    "while True:\n",
    "    name = input(\"What is your name\").upper()\n",
    "    mat_no = input(\"What is your matric number\").capitalize()\n",
    "    department = input(\"What is your department\").upper()\n",
    "    level = input(\"What level are you in\")\n",
    "    data = {\n",
    "        \"Student Name\": [name],\n",
    "        \"Matric.Number\": [mat_no],\n",
    "        \"Department\": [department],\n",
    "        \"Level\": [level],\n",
    "    }\n",
    "    df = pd.DataFrame(data)\n",
    "\n",
    "    try:\n",
    "        existing_df = pd.read_csv(\"PAU_SMIS.csv\")\n",
    "        updated_df = pd.concat([existing_df, df], ignore_index=True)\n",
    "        updated_df.to_csv(\"PAU_SMIS.csv\", index=False)\n",
    "    except FileNotFoundError:\n",
    "        df.to_csv(\"PAU_SMIS.csv\", index=False)\n",
    "\n",
    "    prompt = input(\"Do you want to add another student (yes or no)\").lower()\n",
    "    if prompt == \"yes\":\n",
    "        continue\n",
    "    elif prompt == \"no\":\n",
    "        break"
   ]
  },
  {
   "cell_type": "code",
   "execution_count": 1,
   "metadata": {},
   "outputs": [],
   "source": [
    "import pandas as pd\n",
    "\n",
    "data = {\n",
    "    \"Company\": [\"Enron\", \"Anderson\", \"GK Jones\", \"Mica\", \"Dune\"],\n",
    "    \"Company's shares\": [\"1,000,000\", \"1,500,000\", \"3,000,000\", \"250,000\", \"800,000\"],\n",
    "    \"Company's liability\": [\"200,000\", \"500,000\", \"1,500,000\", \"50,000\", \"300,000\"],\n",
    "    \"Date\": [1987, 1936, 2001, 19996, 2008],\n",
    "    \"Company's levereges\": [80, 66.7, 50, 80, 62.5],\n",
    "}\n",
    "df = pd.DataFrame(data)\n",
    "df.to_csv(\"Question II.csv\")"
   ]
  }
 ],
 "metadata": {
  "kernelspec": {
   "display_name": ".venv",
   "language": "python",
   "name": "python3"
  },
  "language_info": {
   "codemirror_mode": {
    "name": "ipython",
    "version": 3
   },
   "file_extension": ".py",
   "mimetype": "text/x-python",
   "name": "python",
   "nbconvert_exporter": "python",
   "pygments_lexer": "ipython3",
   "version": "3.11.3"
  },
  "orig_nbformat": 4
 },
 "nbformat": 4,
 "nbformat_minor": 2
}
