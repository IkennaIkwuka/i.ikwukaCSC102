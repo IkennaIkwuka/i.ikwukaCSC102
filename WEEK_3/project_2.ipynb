{
 "cells": [
  {
   "cell_type": "code",
   "execution_count": 7,
   "metadata": {},
   "outputs": [
    {
     "name": "stdout",
     "output_type": "stream",
     "text": [
      "The cubic equation is (53)x**3 + (-554)*x**2 + (-45)*x + (45) = 0\n",
      "The roots are 278.9812516177922,(-134.2642107145565+206.34320155130033j),(-134.2642107145565-206.34320155130033j)\n"
     ]
    }
   ],
   "source": [
    "from math import cbrt, sqrt\n",
    "#Code to find the root of a Cubic equation\n",
    "#Formula of a Cubic Equation: Ax**3 + Bx**2 + C*x + D = 0\n",
    "#*Input your values\n",
    "a = int(input(\"A:\"),)\n",
    "b = int(input(\"B:\"))\n",
    "c = int(input(\"C:\"))\n",
    "d = int(input(\"D:\"))\n",
    "\n",
    "#*Display the cubic equation\n",
    "print(f\"The cubic equation is ({a})x**3 + ({b})*x**2 + ({c})*x + ({d}) = 0\")\n",
    "\n",
    "#*Calculations based on cardano formula\n",
    "i= (-1)**(1/2)\n",
    "u = i*sqrt(3)\n",
    "\n",
    "Q = 2*a*c - b**2/(9*a**2)\n",
    "R= 9*a*b*c - 27*a**2*d - 2*b**3/(54*a**3)\n",
    "\n",
    "S= cbrt(R +sqrt(Q**3 + R**2))\n",
    "T= cbrt(R -sqrt(Q**3 + R**2))\n",
    "\n",
    "x1 = (S + T - (b/(3*a)))\n",
    "x2 = -((S + T)/2) - (b/(3*a)) + (u/2)*(S-T)\n",
    "x3 = -((S + T)/2) - (b/(3*a)) - (u/2)*(S-T)\n",
    "\n",
    "#*Displays the roots\n",
    "print(f\"The roots are {x1},{x2},{x3}\")"
   ]
  },
  {
   "cell_type": "code",
   "execution_count": 19,
   "metadata": {},
   "outputs": [
    {
     "name": "stdout",
     "output_type": "stream",
     "text": [
      "The Quadratic equation is (1)x**2 + (3)x + (-28) = 0\n",
      "The roots are 4, and -6\n"
     ]
    }
   ],
   "source": [
    "\n",
    "#*code to find the roots of a quadratic equation\n",
    "#*Using almighty formula\n",
    "from math import ceil, sqrt\n",
    "\n",
    "a= int(input(\"A:\"))\n",
    "b= int(input(\"B:\"))\n",
    "c= int(input(\"C:\"))\n",
    "#*Displays the quadratic equation\n",
    "print(f\"The Quadratic equation is ({a})x**2 + ({b})x + ({c}) = 0\")\n",
    "\n",
    "d = (b - 4*a*c)\n",
    "\n",
    "\n",
    "x1 = ceil((-b + (sqrt(d)))/2*a) \n",
    "x2 = ceil((-b - (sqrt(d)))/2*a)\n",
    "\n",
    "print(f\"The roots are {x1}, and {x2}\")\n"
   ]
  }
 ],
 "metadata": {
  "kernelspec": {
   "display_name": "Python 3",
   "language": "python",
   "name": "python3"
  },
  "language_info": {
   "codemirror_mode": {
    "name": "ipython",
    "version": 3
   },
   "file_extension": ".py",
   "mimetype": "text/x-python",
   "name": "python",
   "nbconvert_exporter": "python",
   "pygments_lexer": "ipython3",
   "version": "3.11.3"
  },
  "orig_nbformat": 4
 },
 "nbformat": 4,
 "nbformat_minor": 2
}
