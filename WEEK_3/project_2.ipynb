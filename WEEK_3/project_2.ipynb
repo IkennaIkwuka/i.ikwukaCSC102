{
 "cells": [
  {
   "cell_type": "code",
   "execution_count": 1,
   "metadata": {},
   "outputs": [
    {
     "name": "stdout",
     "output_type": "stream",
     "text": [
      "The cubic equation is (5)x**3 + (5)*x**2 + (5)*x + (5) = 0\n",
      "The roots are -13.860857618571286,(6.430428809285644+16.938479909143076j),(6.430428809285642-16.938479909143076j)\n"
     ]
    }
   ],
   "source": [
    "from math import cbrt, sqrt\n",
    "#Code to find the root of a Cubic equation\n",
    "#Formula of a Cubic Equation: Ax**3 + Bx**2 + C*x + D = 0\n",
    "#*Input your values\n",
    "a = int(input(\"A:\"),)\n",
    "b = int(input(\"B:\"))\n",
    "c = int(input(\"C:\"))\n",
    "d = int(input(\"D:\"))\n",
    "\n",
    "#*Display the cubic equation\n",
    "print(f\"The cubic equation is ({a})x**3 + ({b})*x**2 + ({c})*x + ({d}) = 0\")\n",
    "\n",
    "#*Calculations based on cardano formula\n",
    "i= (-1)**(1/2)\n",
    "u = i*sqrt(3)\n",
    "\n",
    "Q = 2*a*c - b**2/(9*a**2)\n",
    "R= 9*a*b*c - 27*a**2*d - 2*b**3/(54*a**3)\n",
    "\n",
    "S= cbrt(R +sqrt(Q**3 + R**2))\n",
    "T= cbrt(R -sqrt(Q**3 + R**2))\n",
    "\n",
    "x1 = (S + T - (b/(3*a)))\n",
    "x2 = -((S + T)/2) - (b/(3*a)) + (u/2)*(S-T)\n",
    "x3 = -((S + T)/2) - (b/(3*a)) - (u/2)*(S-T)\n",
    "\n",
    "#*Displays the roots\n",
    "print(f\"The roots are {x1},{x2},{x3}\")"
   ]
  },
  {
   "cell_type": "code",
   "execution_count": 2,
   "metadata": {},
   "outputs": [
    {
     "name": "stdout",
     "output_type": "stream",
     "text": [
      "The Quadratic equation is (6)x**2 + (5)x + (5) = 0\n"
     ]
    },
    {
     "ename": "ValueError",
     "evalue": "math domain error",
     "output_type": "error",
     "traceback": [
      "\u001b[1;31m---------------------------------------------------------------------------\u001b[0m",
      "\u001b[1;31mValueError\u001b[0m                                Traceback (most recent call last)",
      "Cell \u001b[1;32mIn[2], line 13\u001b[0m\n\u001b[0;32m     10\u001b[0m \u001b[39mprint\u001b[39m(\u001b[39mf\u001b[39m\u001b[39m\"\u001b[39m\u001b[39mThe Quadratic equation is (\u001b[39m\u001b[39m{\u001b[39;00ma\u001b[39m}\u001b[39;00m\u001b[39m)x**2 + (\u001b[39m\u001b[39m{\u001b[39;00mb\u001b[39m}\u001b[39;00m\u001b[39m)x + (\u001b[39m\u001b[39m{\u001b[39;00mc\u001b[39m}\u001b[39;00m\u001b[39m) = 0\u001b[39m\u001b[39m\"\u001b[39m)\n\u001b[0;32m     12\u001b[0m d \u001b[39m=\u001b[39m (b \u001b[39m-\u001b[39m \u001b[39m4\u001b[39m\u001b[39m*\u001b[39ma\u001b[39m*\u001b[39mc)\n\u001b[1;32m---> 13\u001b[0m f\u001b[39m=\u001b[39msqrt(d)\n\u001b[0;32m     15\u001b[0m x1 \u001b[39m=\u001b[39m ((\u001b[39m-\u001b[39mb \u001b[39m+\u001b[39m f)\u001b[39m/\u001b[39m\u001b[39m2\u001b[39m\u001b[39m*\u001b[39ma) \n\u001b[0;32m     16\u001b[0m x2 \u001b[39m=\u001b[39m ((\u001b[39m-\u001b[39mb \u001b[39m-\u001b[39m f)\u001b[39m/\u001b[39m\u001b[39m2\u001b[39m\u001b[39m*\u001b[39ma)\n",
      "\u001b[1;31mValueError\u001b[0m: math domain error"
     ]
    }
   ],
   "source": [
    "#TODO Figure out this issue\n",
    "#*code to find the roots of a quadratic equation\n",
    "#*Using almighty formula\n",
    "from math import sqrt\n",
    "\n",
    "a= int(input(\"A:\"))\n",
    "b= int(input(\"B:\"))\n",
    "c= int(input(\"C:\"))\n",
    "#*Displays the quadratic equation\n",
    "print(f\"The Quadratic equation is ({a})x**2 + ({b})x + ({c}) = 0\")\n",
    "\n",
    "d = (b - 4*a*c)\n",
    "f=sqrt(d)\n",
    "\n",
    "x1 = ((-b + f)/2*a) \n",
    "x2 = ((-b - f)/2*a)\n",
    "\n",
    "print(f\"The roots are {x1}, and {x2}\")\n"
   ]
  }
 ],
 "metadata": {
  "kernelspec": {
   "display_name": "Python 3",
   "language": "python",
   "name": "python3"
  },
  "language_info": {
   "codemirror_mode": {
    "name": "ipython",
    "version": 3
   },
   "file_extension": ".py",
   "mimetype": "text/x-python",
   "name": "python",
   "nbconvert_exporter": "python",
   "pygments_lexer": "ipython3",
   "version": "3.11.3"
  },
  "orig_nbformat": 4
 },
 "nbformat": 4,
 "nbformat_minor": 2
}
