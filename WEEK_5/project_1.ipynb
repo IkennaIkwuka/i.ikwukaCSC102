{
 "cells": [
  {
   "cell_type": "code",
   "execution_count": 23,
   "metadata": {},
   "outputs": [
    {
     "name": "stdout",
     "output_type": "stream",
     "text": [
      "Name | Age | Height | Scores \n",
      "\n",
      "Samantha | 17 | 5.5 | 80 \n",
      "\n",
      "Jada | 16 | 6.0 | 85 \n",
      "\n",
      "Jane | 17 | 5.4 | 70 \n",
      "\n",
      "Claire | 18 | 5.9 | 60 \n",
      "\n",
      "Elizabeth | 16 | 5.6 | 76 \n",
      "\n",
      "Mary | 18 | 5.5 | 66 \n",
      "\n",
      "Susan | 17 | 6.1 | 87 \n",
      "\n",
      "Waje | 20 | 6.0 | 95 \n",
      "\n",
      "Taibat | 19 | 5.7 | 50 \n",
      "\n",
      "Lilian | 17 | 5.5 | 49 \n",
      "\n",
      "Charles | 19 | 5.7 | 74 \n",
      "\n",
      "Jude | 16 | 5.9 | 87 \n",
      "\n",
      "James | 18 | 5.8 | 75 \n",
      "\n",
      "Kelvin | 17 | 6.1 | 68 \n",
      "\n",
      "Biodun | 20 | 5.9 | 66 \n",
      "\n",
      "Wale | 19 | 5.5 | 78 \n",
      "\n",
      "Kunle | 16 | 6.1 | 87 \n",
      "\n",
      "Matthew | 18 | 5.4 | 98 \n",
      "\n",
      "Tom | 17 | 5.8 | 54 \n",
      "\n",
      "Kayode | 19 | 5.7 | 60 \n",
      "\n"
     ]
    }
   ],
   "source": [
    "\n",
    "#*girls\n",
    "girls = range(10)\n",
    "names = [\"Samantha\", \"Jada\", \"Jane\", \"Claire\", \"Elizabeth\",\"Mary\",\"Susan\", \"Waje\", \"Taibat\", \"Lilian\"]\n",
    "age = [17, 16, 17, 18, 16, 18, 17, 20, 19, 17]\n",
    "height= [5.5, 6.0, 5.4, 5.9, 5.6, 5.5, 6.1, 6.0, 5.7,5.5]\n",
    "scores= [80, 85, 70, 60, 76, 66, 87, 95, 50, 49]\n",
    "print(\"Name | Age | Height | Scores \\n\")\n",
    "\n",
    "for g in girls:\n",
    "    print(names[g], \"|\" ,age[g], \"|\" ,height[g], \"|\" ,scores[g],\"\\n\")\n",
    "\n",
    "#*Boys\n",
    "boys = range(10)\n",
    "names = [\"Charles\", \"Jude\", \"James\", \"Kelvin\", \"Biodun\",\"Wale\",\"Kunle\", \"Matthew\", \"Tom\", \"Kayode\"]\n",
    "age = [19,16,18,17,20,19,16,18,17,19]\n",
    "height= [5.7,5.9,5.8,6.1,5.9,5.5,6.1,5.4,5.8,5.7]\n",
    "scores= [74,87,75,68,66,78,87,98,54,60]\n",
    "\n",
    "for b in boys:\n",
    "    print(names[b], \"|\" ,age[b], \"|\" ,height[b], \"|\" ,scores[b],\"\\n\")\n",
    "\n"
   ]
  }
 ],
 "metadata": {
  "kernelspec": {
   "display_name": "Python 3",
   "language": "python",
   "name": "python3"
  },
  "language_info": {
   "codemirror_mode": {
    "name": "ipython",
    "version": 3
   },
   "file_extension": ".py",
   "mimetype": "text/x-python",
   "name": "python",
   "nbconvert_exporter": "python",
   "pygments_lexer": "ipython3",
   "version": "3.11.2"
  },
  "orig_nbformat": 4
 },
 "nbformat": 4,
 "nbformat_minor": 2
}
