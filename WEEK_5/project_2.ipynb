{
 "cells": [
  {
   "cell_type": "code",
   "execution_count": 1,
   "metadata": {},
   "outputs": [
    {
     "name": "stdout",
     "output_type": "stream",
     "text": [
      "Input your years of experience and the age\n",
      "\n",
      " Your annual tax revenue (ATR) is #4,480,000.\n"
     ]
    }
   ],
   "source": [
    "# e = 0\n",
    "# a = 0\n",
    "print(\"Input your years of experience and the age\")\n",
    "e = int(input(\"Input experience:\"))\n",
    "# while True:\n",
    "#     if e<=0:\n",
    "#         break\n",
    "# print(\"Invalid years of experience\")\n",
    "a = int(input(\"Input age:\"))\n",
    "# while True:\n",
    "#     if a<=0:\n",
    "#         break\n",
    "# print(\"Invalid age\")\n",
    "\n",
    "if e>25 and a>=55:\n",
    "    print(\"\\n Your annual tax revenue (ATR) is #5,600,000.\")\n",
    "elif e>=20 and a>=45:\n",
    "    print(\"\\n Your annual tax revenue (ATR) is #4,480,000.\")\n",
    "elif e>10 and a>=35:\n",
    "    print(\"\\n Your annual tax revenue (ATR) is #1,500,000.\")\n",
    "elif e<10 and a<35:\n",
    "    print(\"\\n Your annual tax revenue (ATR) is #550,000.\")\n",
    "else:\n",
    "    print(\"Invalid age or years of experience\")\n",
    "\n",
    "\n"
   ]
  }
 ],
 "metadata": {
  "kernelspec": {
   "display_name": "Python 3",
   "language": "python",
   "name": "python3"
  },
  "language_info": {
   "codemirror_mode": {
    "name": "ipython",
    "version": 3
   },
   "file_extension": ".py",
   "mimetype": "text/x-python",
   "name": "python",
   "nbconvert_exporter": "python",
   "pygments_lexer": "ipython3",
   "version": "3.11.3"
  },
  "orig_nbformat": 4
 },
 "nbformat": 4,
 "nbformat_minor": 2
}
