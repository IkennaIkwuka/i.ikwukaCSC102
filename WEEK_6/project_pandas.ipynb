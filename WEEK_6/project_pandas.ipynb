{
 "cells": [
  {
   "cell_type": "code",
   "execution_count": 3,
   "metadata": {},
   "outputs": [
    {
     "data": {
      "text/plain": [
       "(   Unnamed: 0                          App Name   \n",
       " 0           1              Google Play services  \\\n",
       " 1           2                           YouTube   \n",
       " 2           3                            Google   \n",
       " 3           4  Google Maps - Navigate & Explore   \n",
       " 4           5             Google Text-to-Speech   \n",
       " 5           6      Google Chrome: Fast & Secure   \n",
       " 6           7                             Gmail   \n",
       " \n",
       "                                     App Id                 Category   \n",
       " 0                   com.google.android.gms                    Tools  \\\n",
       " 1               com.google.android.youtube  Video Players & Editors   \n",
       " 2  com.google.android.googlequicksearchbox                    Tools   \n",
       " 3             com.google.android.apps.maps           Travel & Local   \n",
       " 4                   com.google.android.tts                    Tools   \n",
       " 5                       com.android.chrome            Communication   \n",
       " 6                    com.google.android.gm            Communication   \n",
       " \n",
       "   Developer Id                                  Developer Website   \n",
       " 0   Google LLC  https://developers.google.com/android/google-p...  \\\n",
       " 1   Google LLC  https://support.google.com/youtube/topic/24225...   \n",
       " 2   Google LLC               https://www.google.com/search/about/   \n",
       " 3   Google LLC                      http://maps.google.com/about/   \n",
       " 4   Google LLC                             http://www.google.com/   \n",
       " 5   Google LLC               http://www.google.com/chrome/android   \n",
       " 6   Google LLC  http://support.google.com/mail/bin/topic.py?hl...   \n",
       " \n",
       "                 Developer Email Content Rating  Ad Supported  In App Purchases  \n",
       " 0          apps-help@google.com       Everyone         False             False  \n",
       " 1  ytandroid-support@google.com           Teen          True             False  \n",
       " 2          apps-help@google.com       Everyone          True             False  \n",
       " 3          apps-help@google.com       Everyone          True             False  \n",
       " 4       tts-feedback@google.com       Everyone         False             False  \n",
       " 5          apps-help@google.com       Everyone         False             False  \n",
       " 6          apps-help@google.com       Everyone          True             False  ,\n",
       "    id           file_path  file_size  line_count extension  language\n",
       " 0   1  Markdown/000001.md      34784         572        md  Markdown\n",
       " 1   2    XML/000002.props       3013          44     props       XML\n",
       " 2   3     Text/000003.txt       1076          21       txt      Text\n",
       " 3   4  Markdown/000004.md       8105          84        md  Markdown\n",
       " 4   5  Markdown/000005.md       2763          41        md  Markdown\n",
       " 5   6  Markdown/000006.md       2030          32        md  Markdown\n",
       " 6   7    JSON/000007.json        591          19      json      JSON,\n",
       "         Date    Price     Open     High      Low     Vol. Change %\n",
       " 0  25-Mar-22  44331.0  44013.0  45112.0  43622.0  494.09M    0.72%\n",
       " 1  24-Mar-22  44013.0  42911.0  44251.0  42658.0  491.66M    2.57%\n",
       " 2  23-Mar-22  42912.0  42373.0  43027.0  41795.0  433.96M    1.27%\n",
       " 3  22-Mar-22  42373.0  41022.0  43327.9  40893.0  537.06M    3.29%\n",
       " 4  21-Mar-22  41022.0  41282.0  41532.0  40530.0  406.62M   -0.62%\n",
       " 5  20-Mar-22  41276.0  42241.0  42301.0  40922.0  308.45M   -2.27%\n",
       " 6  19-Mar-22  42233.0  41768.0  42386.0  41529.6  224.59M    1.11%)"
      ]
     },
     "execution_count": 3,
     "metadata": {},
     "output_type": "execute_result"
    }
   ],
   "source": [
    "#*First 7 rows of datasets \"Top apps in Google-play\", \"Cryptocurrency predict artificial intelligence V3\",\"Programming languages and file format detection\"\n",
    "import pandas as pd\n",
    "\n",
    "# making data frame from csv file\n",
    "tgp = pd.read_csv(\"Top-apps-in-Google-play.csv\")\n",
    "crc = pd.read_csv(\"BTC_DATA_V3.0.csv\")\n",
    "plf = pd.read_csv(\"dataset.csv\")\n",
    "# print excel\n",
    "df=tgp.iloc[:7]\n",
    "dt=plf.iloc[:7]\n",
    "fg=crc.iloc[:7]\n",
    "df,dt,fg\n",
    "# g = pd.DataFrame(df)\n",
    "# p= pd.DataFrame(dt)\n",
    "# c= pd.DataFrame(fg)\n",
    "# g,p,c"
   ]
  },
  {
   "cell_type": "code",
   "execution_count": 4,
   "metadata": {},
   "outputs": [
    {
     "data": {
      "text/plain": [
       "(    Unnamed: 0                                           App Name   \n",
       " 0            1                               Google Play services  \\\n",
       " 1            2                                            YouTube   \n",
       " 2            3                                             Google   \n",
       " 3            4                   Google Maps - Navigate & Explore   \n",
       " 4            5                              Google Text-to-Speech   \n",
       " ..         ...                                                ...   \n",
       " 65          66                                              Clock   \n",
       " 66          67  Spotify: Listen to podcasts & find music you love   \n",
       " 67          68                                   Google Translate   \n",
       " 68          69                                      Samsung Notes   \n",
       " 69          70                                         Calculator   \n",
       " \n",
       "                                      App Id  \n",
       " 0                    com.google.android.gms  \n",
       " 1                com.google.android.youtube  \n",
       " 2   com.google.android.googlequicksearchbox  \n",
       " 3              com.google.android.apps.maps  \n",
       " 4                    com.google.android.tts  \n",
       " ..                                      ...  \n",
       " 65             com.google.android.deskclock  \n",
       " 66                        com.spotify.music  \n",
       " 67        com.google.android.apps.translate  \n",
       " 68            com.samsung.android.app.notes  \n",
       " 69            com.google.android.calculator  \n",
       " \n",
       " [70 rows x 3 columns],\n",
       "           id           file_path  file_size\n",
       " 0          1  Markdown/000001.md      34784\n",
       " 1          2    XML/000002.props       3013\n",
       " 2          3     Text/000003.txt       1076\n",
       " 3          4  Markdown/000004.md       8105\n",
       " 4          5  Markdown/000005.md       2763\n",
       " ...      ...                 ...        ...\n",
       " 86222  86229      SQL/086229.sql        333\n",
       " 86223  86230      SQL/086230.sql        420\n",
       " 86224  86231      SQL/086231.sql        333\n",
       " 86225  86232      SQL/086232.sql        420\n",
       " 86226  86233      SQL/086233.sql        333\n",
       " \n",
       " [86227 rows x 3 columns],\n",
       "            Date    Price     Open\n",
       " 0     25-Mar-22  44331.0  44013.0\n",
       " 1     24-Mar-22  44013.0  42911.0\n",
       " 2     23-Mar-22  42912.0  42373.0\n",
       " 3     22-Mar-22  42373.0  41022.0\n",
       " 4     21-Mar-22  41022.0  41282.0\n",
       " ...         ...      ...      ...\n",
       " 1484   2-Mar-18  10827.7  10904.5\n",
       " 1485   1-Mar-18  10904.5  10335.1\n",
       " 1486  28-Feb-18  10333.9  10584.4\n",
       " 1487  27-Feb-18  10594.4  10287.8\n",
       " 1488  26-Feb-18  10285.1   9590.9\n",
       " \n",
       " [1489 rows x 3 columns])"
      ]
     },
     "execution_count": 4,
     "metadata": {},
     "output_type": "execute_result"
    }
   ],
   "source": [
    "#* First 3 colums of datasets \"Top apps in Google-play\", \"Cryptocurrency predict artificial intelligence V3\",\"Programming languages and file format detection\"\n",
    "import pandas as pd\n",
    "tgp = pd.read_csv(\"Top-apps-in-Google-play.csv\")\n",
    "plf = pd.read_csv(\"dataset.csv\")\n",
    "crc = pd.read_csv(\"BTC_DATA_V3.0.csv\")\n",
    "\n",
    "t = tgp.iloc[:,0:3]\n",
    "p = plf.iloc[:,0:3]\n",
    "c = crc.iloc[:,0:3]\n",
    "t,p,c\n"
   ]
  },
  {
   "cell_type": "code",
   "execution_count": 5,
   "metadata": {},
   "outputs": [
    {
     "data": {
      "text/plain": [
       "(0    Google Play services\n",
       " Name: App Name, dtype: object,\n",
       " 0    Markdown/000001.md\n",
       " Name: file_path, dtype: object,\n",
       " 0    44331.0\n",
       " Name: Price, dtype: float64)"
      ]
     },
     "execution_count": 5,
     "metadata": {},
     "output_type": "execute_result"
    }
   ],
   "source": [
    "#code to display one row and one header of each dataset\n",
    "import pandas as pd\n",
    "tgp = pd.read_csv(\"Top-apps-in-Google-play.csv\")\n",
    "plf = pd.read_csv(\"dataset.csv\")\n",
    "crc = pd.read_csv(\"BTC_DATA_V3.0.csv\")\n",
    "\n",
    "# g= tgp.head(1)\n",
    "# t = g.iloc[:,0]\n",
    "# t\n",
    "# g[[\"Unnamed: 0\"]]\n",
    "t =tgp.iloc[:,1]\n",
    "p =plf.iloc[:,1]\n",
    "c =crc.iloc[:,1]\n",
    "g=t.head(1)\n",
    "l=p.head(1)\n",
    "r=c.head(1)\n",
    "g,l,r\n",
    "# p = pd.DataFrame(g)\n",
    "# f = pd.DataFrame(l)\n",
    "# c = pd.DataFrame(r)\n"
   ]
  },
  {
   "cell_type": "code",
   "execution_count": 1,
   "metadata": {},
   "outputs": [],
   "source": [
    "import pandas as pd\n",
    "products= {'exports':[\"cocoa butter\",\"cake\",\"liquor\",\"cocoa powder\"],\n",
    "           'segments':[\"Refreshments Beverages\",\"Confectionery\",\"Intermediate Cocoa products\",\"\"],\n",
    "           'brands':[\"CADBURY BOURNVITA and CADBURY 3-in-1 HOT CHOCOLATE\",\"TOMTOM CLASSIC, TOMTOM STRAWBERRY and BUTTERMINT\",\"COCOA POWDER and COCOA BUTTER\",\"\"]}\n",
    "gf = pd.DataFrame(products)\n",
    "gf.to_csv(\"cadbury_market.csv\")"
   ]
  }
 ],
 "metadata": {
  "kernelspec": {
   "display_name": "Python 3",
   "language": "python",
   "name": "python3"
  },
  "language_info": {
   "codemirror_mode": {
    "name": "ipython",
    "version": 3
   },
   "file_extension": ".py",
   "mimetype": "text/x-python",
   "name": "python",
   "nbconvert_exporter": "python",
   "pygments_lexer": "ipython3",
   "version": "3.11.3"
  },
  "orig_nbformat": 4
 },
 "nbformat": 4,
 "nbformat_minor": 2
}
