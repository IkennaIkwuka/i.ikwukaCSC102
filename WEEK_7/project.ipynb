{
 "cells": [
  {
   "cell_type": "code",
   "execution_count": 65,
   "metadata": {},
   "outputs": [
    {
     "name": "stdout",
     "output_type": "stream",
     "text": [
      "not\n"
     ]
    }
   ],
   "source": [
    "from re import X\n",
    "import pandas as pd\n",
    "\n",
    "f = pd.read_csv(\"jt-ventures.csv\")\n",
    "\n",
    "s= input(\"What is your name (surname):\")  \n",
    "f_n = input(\"What is your name (first name):\")    \n",
    "d = input(\"What is your department:\")\n",
    "# s = f.iloc[:,1]\n",
    "# f_n = f.iloc[:,2]\n",
    "# d=f.iloc[:,3]\n",
    "# g = input(str(\"What is your name (first name):\"))\n",
    "# h = d.iloc[0:5]\n",
    "h=list(s)\n",
    "l=list(f_n)\n",
    "x=list(d)\n",
    "if [s,f_n,d] in [h,l,x]:\n",
    "    print(\"yes\")\n",
    "else:\n",
    "    print(\"not\")\n",
    "# def ft(surname,first_name,department):\n",
    "#     return\n"
   ]
  }
 ],
 "metadata": {
  "kernelspec": {
   "display_name": "Python 3",
   "language": "python",
   "name": "python3"
  },
  "language_info": {
   "codemirror_mode": {
    "name": "ipython",
    "version": 3
   },
   "file_extension": ".py",
   "mimetype": "text/x-python",
   "name": "python",
   "nbconvert_exporter": "python",
   "pygments_lexer": "ipython3",
   "version": "3.11.2"
  },
  "orig_nbformat": 4
 },
 "nbformat": 4,
 "nbformat_minor": 2
}
